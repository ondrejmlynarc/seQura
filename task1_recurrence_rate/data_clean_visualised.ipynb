{
 "cells": [
  {
   "cell_type": "code",
   "execution_count": 18,
   "id": "09e0bdbb",
   "metadata": {},
   "outputs": [],
   "source": [
    "import duckdb\n",
    "import pandas as pd\n",
    "\n",
    "con = duckdb.connect(':memory:')"
   ]
  },
  {
   "cell_type": "code",
   "execution_count": 17,
   "id": "eae20fcf",
   "metadata": {},
   "outputs": [
    {
     "name": "stdout",
     "output_type": "stream",
     "text": [
      "       order_id     shopper_id  merchant_id order_date\n",
      "18           19           1234         9875 2022-12-17\n",
      "19           20           1239         9885 2022-09-17\n",
      "20           21           1239         9885 2022-12-07\n",
      "21           22           1239         9886 2022-10-16\n",
      "22           23           1240         9886 2022-12-01\n",
      "23           24           1241         9887 2022-11-05\n",
      "24           25           1242         9887 2022-12-05\n",
      "25         None           None         <NA>        NaT\n",
      "26  merchant_id  merchant_name         <NA>        NaT\n",
      "27         9876     Merchant A         <NA>        NaT\n",
      "28         9875     Merchant B         <NA>        NaT\n",
      "29         9877     Merchant C         <NA>        NaT\n",
      "30         9885     Merchant D         <NA>        NaT\n",
      "31         9886     Merchant E         <NA>        NaT\n",
      "32         9887     Merchant F         <NA>        NaT\n"
     ]
    }
   ],
   "source": [
    "# Raw data\n",
    "query_raw_data = \"\"\"\n",
    "    SELECT *\n",
    "    FROM 'data/orders_merchant.csv'\n",
    "\"\"\"\n",
    "\n",
    "result_raw = con.sql(query_raw_data).df()\n",
    "print(result_raw. tail(15))"
   ]
  },
  {
   "cell_type": "markdown",
   "id": "346e5d30",
   "metadata": {},
   "source": [
    "As can be seen from above, the data source, orders_merchant.csv, contains a mix of both order records and merchant mapping information within a single file. Therefore, I used the following queries to separate these two types of data:"
   ]
  },
  {
   "cell_type": "code",
   "execution_count": 21,
   "id": "5cb6fd67",
   "metadata": {},
   "outputs": [
    {
     "name": "stdout",
     "output_type": "stream",
     "text": [
      "   order_id shopper_id  merchant_id order_date\n",
      "0         1       1234         9876 2022-09-09\n",
      "1         2       1235         9875 2022-09-10\n",
      "2         3       1236         9877 2022-09-11\n",
      "3         4       1238         9876 2022-10-13\n",
      "4         5       1237         9876 2022-10-12\n",
      "5         6       1239         9876 2022-10-14\n",
      "6         7       1239         9876 2022-10-15\n",
      "7         8       1240         9875 2022-11-16\n",
      "8         9       1234         9875 2022-11-17\n",
      "9        10       1235         9875 2022-11-18\n",
      "10       11       1236         9875 2022-12-19\n",
      "11       12       1236         9875 2022-12-20\n",
      "12       13       1238         9876 2022-10-03\n",
      "13       14       1238         9877 2022-12-03\n",
      "14       15       1238         9876 2022-10-01\n",
      "15       16       1236         9877 2022-09-11\n",
      "16       17       1240         9875 2022-09-16\n",
      "17       18       1238         9876 2022-10-01\n",
      "18       19       1234         9875 2022-12-17\n",
      "19       20       1239         9885 2022-09-17\n",
      "20       21       1239         9885 2022-12-07\n",
      "21       22       1239         9886 2022-10-16\n",
      "22       23       1240         9886 2022-12-01\n",
      "23       24       1241         9887 2022-11-05\n",
      "24       25       1242         9887 2022-12-05\n"
     ]
    }
   ],
   "source": [
    "query_orders_data = \"\"\"\n",
    "\n",
    "    -- Merchant data and empty rows don't have 'order_date' so this query separates us the orders data\n",
    "\n",
    "    SELECT\n",
    "        order_id,\n",
    "        shopper_id,\n",
    "        CAST(merchant_id AS INT) AS merchant_id,\n",
    "        order_date\n",
    "    FROM 'data/orders_merchant.csv' \n",
    "    WHERE order_date IS NOT NULL \n",
    "\"\"\"\n",
    "\n",
    "result_raw = con.sql(query_orders_data).df()\n",
    "print(result_raw)"
   ]
  },
  {
   "cell_type": "code",
   "execution_count": 20,
   "id": "1ec9849e",
   "metadata": {},
   "outputs": [
    {
     "name": "stdout",
     "output_type": "stream",
     "text": [
      "   merchant_id merchant_name\n",
      "0         9876    Merchant A\n",
      "1         9875    Merchant B\n",
      "2         9877    Merchant C\n",
      "3         9885    Merchant D\n",
      "4         9886    Merchant E\n",
      "5         9887    Merchant F\n"
     ]
    }
   ],
   "source": [
    "query_merchant_data = \"\"\"\n",
    "\n",
    "-- The merchant data (inside orders) contains NULL values in order_date and merchant_id (foreign key from orders table),\n",
    "-- so we filter those out.  \n",
    "-- One row also has a NULL order_id, which is excluded by applying TRY_CAST\n",
    "\n",
    "  SELECT\n",
    "        CAST(order_id AS INT) AS merchant_id,\n",
    "        shopper_id AS merchant_name\n",
    "    FROM 'data/orders_merchant.csv'\n",
    "    WHERE order_date IS NULL\n",
    "      AND merchant_id IS NULL\n",
    "      AND TRY_CAST(order_id AS INT) IS NOT NULL\n",
    "\"\"\"\n",
    "\n",
    "result_raw = con.sql(query_merchant_data).df()\n",
    "print(result_raw)"
   ]
  }
 ],
 "metadata": {
  "kernelspec": {
   "display_name": "Python 3",
   "language": "python",
   "name": "python3"
  },
  "language_info": {
   "codemirror_mode": {
    "name": "ipython",
    "version": 3
   },
   "file_extension": ".py",
   "mimetype": "text/x-python",
   "name": "python",
   "nbconvert_exporter": "python",
   "pygments_lexer": "ipython3",
   "version": "3.10.9"
  }
 },
 "nbformat": 4,
 "nbformat_minor": 5
}
